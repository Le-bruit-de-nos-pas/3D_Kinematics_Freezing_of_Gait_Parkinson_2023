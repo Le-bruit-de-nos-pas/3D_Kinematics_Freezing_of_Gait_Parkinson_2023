{
  "nbformat": 4,
  "nbformat_minor": 0,
  "metadata": {
    "colab": {
      "name": "FOG_ANOVA.ipynb",
      "provenance": [],
      "toc_visible": true
    },
    "kernelspec": {
      "name": "python3",
      "display_name": "Python 3"
    },
    "language_info": {
      "name": "python"
    }
  },
  "cells": [
    {
      "cell_type": "code",
      "execution_count": null,
      "metadata": {
        "id": "VtgZR6nbYgK0",
        "colab": {
          "base_uri": "https://localhost:8080/"
        },
        "outputId": "acc5ac7e-b2b0-43af-d7af-4864d86dab71"
      },
      "outputs": [
        {
          "output_type": "stream",
          "name": "stderr",
          "text": [
            "/usr/local/lib/python3.7/dist-packages/statsmodels/tools/_testing.py:19: FutureWarning: pandas.util.testing is deprecated. Use the functions in the public API at pandas.testing instead.\n",
            "  import pandas.util.testing as tm\n"
          ]
        }
      ],
      "source": [
        "import pandas as pd\n",
        "import numpy as np\n",
        "from statsmodels.stats.anova import AnovaRM"
      ]
    },
    {
      "cell_type": "code",
      "source": [
        "FOG_Stim_conditions = pd.read_csv('FOG_Stim_conditions.csv', sep = ';')"
      ],
      "metadata": {
        "id": "w01iHS0xmG57"
      },
      "execution_count": null,
      "outputs": []
    },
    {
      "cell_type": "code",
      "source": [
        "print(FOG_Stim_conditions)"
      ],
      "metadata": {
        "colab": {
          "base_uri": "https://localhost:8080/"
        },
        "id": "JrIZi0OknZeb",
        "outputId": "5ae54547-8344-45fd-c46e-cf6887e68161"
      },
      "execution_count": null,
      "outputs": [
        {
          "output_type": "stream",
          "name": "stdout",
          "text": [
            "    patient  UPDRS_III  Item_3.10   Item_3.11  Item_3.12  SWS_time_(s)  \\\n",
            "0      1684       43.0         2.0        0.0         0.0        42,00   \n",
            "1    486931       53.0         2.0        0.0         0.0        38,00   \n",
            "2    600294       46.0         2.0        3.0         0.0        40,00   \n",
            "3   1093025       50.0         2.0        2.0         3.0        83,00   \n",
            "4   1102776       53.0         2.0        3.0         3.0        49,00   \n",
            "..      ...        ...         ...        ...         ...          ...   \n",
            "85  2126706        NaN         NaN        NaN         NaN          NaN   \n",
            "86  2162586       62.0         2.0        4.0         0.0           58   \n",
            "87  2223671       44.0         2.0        4.0         0.0          166   \n",
            "88  2295512       29.0         2.0        2.0         0.0           55   \n",
            "89  2307872        NaN         NaN        NaN         NaN          NaN   \n",
            "\n",
            "    SWS_N_FOG_Events   HY  AIMS            condition  \n",
            "0                0.0  2.0   0.0      MED_OFF_STIM_ON  \n",
            "1                0.0  2.0   0.0      MED_OFF_STIM_ON  \n",
            "2                4.0  2.0   4.0      MED_OFF_STIM_ON  \n",
            "3                2.0  3.0   4.0      MED_OFF_STIM_ON  \n",
            "4                6.0  4.0  26.0      MED_OFF_STIM_ON  \n",
            "..               ...  ...   ...                  ...  \n",
            "85               NaN  NaN   NaN  MED_ON_STIM_ON_60Hz  \n",
            "86               3.0  2.0  10.0  MED_ON_STIM_ON_60Hz  \n",
            "87              12.0  3.0  12.0  MED_ON_STIM_ON_60Hz  \n",
            "88               4.0  2.0  20.0  MED_ON_STIM_ON_60Hz  \n",
            "89               NaN  NaN   NaN  MED_ON_STIM_ON_60Hz  \n",
            "\n",
            "[90 rows x 10 columns]\n"
          ]
        }
      ]
    },
    {
      "cell_type": "code",
      "source": [
        "FOG_Stim_conditions[\"UPDRS_III\"] = FOG_Stim_conditions.groupby(\"condition\").transform(lambda x: x.fillna(x.mean()))[\"UPDRS_III\"]"
      ],
      "metadata": {
        "colab": {
          "base_uri": "https://localhost:8080/"
        },
        "id": "eVAP9isSn4GB",
        "outputId": "aab8318a-a263-4981-ccc1-a50c2a7d3460"
      },
      "execution_count": null,
      "outputs": [
        {
          "output_type": "stream",
          "name": "stderr",
          "text": [
            "/usr/local/lib/python3.7/dist-packages/ipykernel_launcher.py:1: FutureWarning: Dropping invalid columns in DataFrameGroupBy.transform is deprecated. In a future version, a TypeError will be raised. Before calling .transform, select only columns which should be valid for the transforming function.\n",
            "  \"\"\"Entry point for launching an IPython kernel.\n"
          ]
        }
      ]
    },
    {
      "cell_type": "code",
      "source": [
        "print(FOG_Stim_conditions)"
      ],
      "metadata": {
        "colab": {
          "base_uri": "https://localhost:8080/"
        },
        "id": "1zm8wQmyoDo_",
        "outputId": "054d7b7f-8ed0-4a56-801f-ba309706ca58"
      },
      "execution_count": null,
      "outputs": [
        {
          "output_type": "stream",
          "name": "stdout",
          "text": [
            "    patient  UPDRS_III  Item_3.10   Item_3.11  Item_3.12  SWS_time_(s)  \\\n",
            "0      1684  43.000000         2.0        0.0         0.0        42,00   \n",
            "1    486931  53.000000         2.0        0.0         0.0        38,00   \n",
            "2    600294  46.000000         2.0        3.0         0.0        40,00   \n",
            "3   1093025  50.000000         2.0        2.0         3.0        83,00   \n",
            "4   1102776  53.000000         2.0        3.0         3.0        49,00   \n",
            "..      ...        ...         ...        ...         ...          ...   \n",
            "85  2126706  40.714286         NaN        NaN         NaN          NaN   \n",
            "86  2162586  62.000000         2.0        4.0         0.0           58   \n",
            "87  2223671  44.000000         2.0        4.0         0.0          166   \n",
            "88  2295512  29.000000         2.0        2.0         0.0           55   \n",
            "89  2307872  40.714286         NaN        NaN         NaN          NaN   \n",
            "\n",
            "    SWS_N_FOG_Events   HY  AIMS            condition  \n",
            "0                0.0  2.0   0.0      MED_OFF_STIM_ON  \n",
            "1                0.0  2.0   0.0      MED_OFF_STIM_ON  \n",
            "2                4.0  2.0   4.0      MED_OFF_STIM_ON  \n",
            "3                2.0  3.0   4.0      MED_OFF_STIM_ON  \n",
            "4                6.0  4.0  26.0      MED_OFF_STIM_ON  \n",
            "..               ...  ...   ...                  ...  \n",
            "85               NaN  NaN   NaN  MED_ON_STIM_ON_60Hz  \n",
            "86               3.0  2.0  10.0  MED_ON_STIM_ON_60Hz  \n",
            "87              12.0  3.0  12.0  MED_ON_STIM_ON_60Hz  \n",
            "88               4.0  2.0  20.0  MED_ON_STIM_ON_60Hz  \n",
            "89               NaN  NaN   NaN  MED_ON_STIM_ON_60Hz  \n",
            "\n",
            "[90 rows x 10 columns]\n"
          ]
        }
      ]
    },
    {
      "cell_type": "code",
      "source": [
        ""
      ],
      "metadata": {
        "id": "jNL9d59KpojY"
      },
      "execution_count": null,
      "outputs": []
    },
    {
      "cell_type": "code",
      "source": [
        "#  Conduct the repeated measures ANOVA\n",
        "\n",
        "print(AnovaRM(data=FOG_Stim_conditions, \n",
        "              depvar=\"UPDRS_III\",\n",
        "              subject=\"patient\", \n",
        "              within=[\"condition\"]).fit())"
      ],
      "metadata": {
        "colab": {
          "base_uri": "https://localhost:8080/"
        },
        "id": "TKwrDOu9na--",
        "outputId": "88be1c13-76a7-4091-fda4-31f385737a41"
      },
      "execution_count": null,
      "outputs": [
        {
          "output_type": "stream",
          "name": "stdout",
          "text": [
            "                 Anova\n",
            "=======================================\n",
            "          F Value Num DF  Den DF Pr > F\n",
            "---------------------------------------\n",
            "condition 40.9568 4.0000 68.0000 0.0000\n",
            "=======================================\n",
            "\n"
          ]
        }
      ]
    }
  ]
}